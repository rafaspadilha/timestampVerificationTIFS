{
 "cells": [
  {
   "cell_type": "markdown",
   "metadata": {},
   "source": [
    "# Transient Attributes Analyses\n",
    "\n",
    "Code for the analyses made in sections **IV.I - Transient Attribute Influence Analysis** and the **Supplementary Material - VII - Transient Attributes**. \n",
    "\n",
    "\n",
    "\n",
    "### Setup"
   ]
  },
  {
   "cell_type": "code",
   "execution_count": 1,
   "metadata": {},
   "outputs": [],
   "source": [
    "# !pip install --upgrade scikit-image\n",
    "# !pip install pyproj\n",
    "# !pip install tqdm"
   ]
  },
  {
   "cell_type": "code",
   "execution_count": 1,
   "metadata": {},
   "outputs": [
    {
     "name": "stderr",
     "output_type": "stream",
     "text": [
      "Using TensorFlow backend.\n"
     ]
    }
   ],
   "source": [
    "import numpy as np\n",
    "import matplotlib.pyplot as plt\n",
    "\n",
    "import os, sys\n",
    "\n",
    "from itertools import product\n",
    "import matplotlib.image as mpimg\n",
    "import pyproj\n",
    "from tqdm import tqdm\n",
    "\n",
    "from skimage import transform\n",
    "\n",
    "sys.path.append(\"../../datasets\")\n",
    "from dataLoader import DataLoader, preprocess_time\n",
    "\n",
    "from tf.keras.models import Model, load_model\n",
    "from tf.keras.layers import Input\n",
    "from tf.keras.losses import mean_squared_error\n",
    "\n",
    "transLabels = [\"dirty\", \"daylight\", \"night\", \"sunrisesunset\", \"dawndusk\", \"sunny\", \"clouds\", \n",
    "               \"fog\", \"storm\", \"snow\", \"warm\", \"cold\", \"busy\", \"beautiful\", \"flowers\", \"spring\", \n",
    "               \"summer\", \"autumn\", \"winter\", \"glowing\", \"colorful\", \"dull\", \"rugged\", \"midday\", \n",
    "               \"dark\", \"bright\", \"dry\", \"moist\", \"windy\", \"rain\", \"ice\", \"cluttered\", \"soothing\", \n",
    "               \"stressful\", \"exciting\", \"sentimental\", \"mysterious\", \"boring\", \"gloomy\", \"lush\"]\n",
    "\n",
    "transCategories = {\"Illumination\":[\"dark\",\"glowing\",\"bright\"],\n",
    "               \"Period of the day\":[\"daylight\", \"night\", \"sunrisesunset\", \"dawndusk\",\"midday\"],\n",
    "               \"Weather\":[\"sunny\", \"clouds\",\"fog\", \"storm\", \"snow\", \"warm\", \"cold\", \"dry\", \n",
    "                          \"moist\", \"windy\", \"rain\", \"ice\" ],\n",
    "               \"Season\":[\"spring\", \"summer\", \"autumn\", \"winter\"],\n",
    "               \"Vegetation\":[\"flowers\", \"lush\"],\n",
    "               \"Colors\":[\"colorful\", \"dull\"],\n",
    "               \"Appearance\":[\"dirty\", \"busy\", \"rugged\", \"cluttered\"],\n",
    "               \"Subjective\":[\"beautiful\", \"soothing\", \"stressful\", \"exciting\", \"sentimental\", \n",
    "                             \"mysterious\", \"boring\", \"gloomy\"]\n",
    "               }\n",
    "\n",
    "\n",
    "batchSize = 1\n",
    "pathToModel = \"../IV.B_ablation_study/denseNet/gr_oh_loc_time_TA/weights.30-0.57407.hdf5\"\n",
    "gpuNumber = 4\n",
    "\n",
    "## GPU selection\n",
    "import tensorflow as tf \n",
    "gpus = tf.config.experimental.list_physical_devices('GPU')\n",
    "tf.config.experimental.set_visible_devices(gpus[gpuNumber], 'GPU')\n",
    "tf.config.experimental.set_memory_growth(gpus[gpuNumber], False)\n",
    "\n",
    "\n",
    "\n",
    "#######################\n",
    "##    Custom MSE     ##\n",
    "#######################\n",
    "# We will compute the MSE only for the consistent inputs\n",
    "def transient_mse(y_true, y_pred):\n",
    "    return tf.sum(mean_squared_error(y_true[0::2,:], y_pred[0::2,:]), axis=-1)\n",
    "\n",
    "\n",
    "\n",
    "#######################\n",
    "## Deprocess time\n",
    "#######################\n",
    "def deprocess_time(time):\n",
    "    month, hour = time\n",
    "    month = (11.0 / 2.0) * (month + 1) + 1\n",
    "    hour = (23.0 / 2.0) * (hour + 1)\n",
    "    return (int(round(month)), int(round(hour)))\n",
    "\n",
    "def deprocess_loc(loc):\n",
    "    _earth_radius = 6378137.0\n",
    "    x,y,z = loc\n",
    "    ecef = pyproj.Proj(proj='geocent', ellps='WGS84', datum='WGS84')\n",
    "    lla = pyproj.Proj(proj='latlong', ellps='WGS84', datum='WGS84')\n",
    "    \n",
    "    lon, lat, alt = pyproj.transform(ecef, lla, x * _earth_radius, y*_earth_radius, z*_earth_radius, radians=False)\n",
    "    return (lat, lon, alt)"
   ]
  },
  {
   "cell_type": "markdown",
   "metadata": {},
   "source": [
    "### Load architecture"
   ]
  },
  {
   "cell_type": "code",
   "execution_count": 2,
   "metadata": {},
   "outputs": [
    {
     "name": "stdout",
     "output_type": "stream",
     "text": [
      "WARNING:tensorflow:From /usr/local/lib/python2.7/dist-packages/tensorflow_core/python/ops/resource_variable_ops.py:1630: calling __init__ (from tensorflow.python.ops.resource_variable_ops) with constraint is deprecated and will be removed in a future version.\n",
      "Instructions for updating:\n",
      "If using Keras pass *_constraint arguments to layers.\n",
      "WARNING:tensorflow:From /usr/local/lib/python2.7/dist-packages/keras/backend/tensorflow_backend.py:4070: The name tf.nn.max_pool is deprecated. Please use tf.nn.max_pool2d instead.\n",
      "\n",
      "WARNING:tensorflow:From /usr/local/lib/python2.7/dist-packages/keras/backend/tensorflow_backend.py:4074: The name tf.nn.avg_pool is deprecated. Please use tf.nn.avg_pool2d instead.\n",
      "\n",
      "WARNING:tensorflow:From /usr/local/lib/python2.7/dist-packages/keras/backend/tensorflow_backend.py:422: The name tf.global_variables is deprecated. Please use tf.compat.v1.global_variables instead.\n",
      "\n",
      "Model: \"model_1\"\n",
      "__________________________________________________________________________________________________\n",
      "Layer (type)                    Output Shape         Param #     Connected to                     \n",
      "==================================================================================================\n",
      "groundInput (InputLayer)        (None, 224, 224, 3)  0                                            \n",
      "__________________________________________________________________________________________________\n",
      "aerialInput (InputLayer)        (None, 224, 224, 3)  0                                            \n",
      "__________________________________________________________________________________________________\n",
      "locationInput (InputLayer)      (None, 3)            0                                            \n",
      "__________________________________________________________________________________________________\n",
      "timeInput (InputLayer)          (None, 2)            0                                            \n",
      "__________________________________________________________________________________________________\n",
      "gr_densenet121 (Model)          (None, 7, 7, 1024)   7037504     groundInput[0][0]                \n",
      "__________________________________________________________________________________________________\n",
      "ae_densenet121 (Model)          (None, 7, 7, 1024)   7037504     aerialInput[0][0]                \n",
      "__________________________________________________________________________________________________\n",
      "loc_fc1 (Dense)                 (None, 256)          1024        locationInput[0][0]              \n",
      "__________________________________________________________________________________________________\n",
      "time_fc1 (Dense)                (None, 256)          768         timeInput[0][0]                  \n",
      "__________________________________________________________________________________________________\n",
      "flatten_1 (Flatten)             (None, 50176)        0           gr_densenet121[1][0]             \n",
      "__________________________________________________________________________________________________\n",
      "flatten_2 (Flatten)             (None, 50176)        0           ae_densenet121[1][0]             \n",
      "__________________________________________________________________________________________________\n",
      "batch_normalization_5 (BatchNor (None, 256)          1024        loc_fc1[0][0]                    \n",
      "__________________________________________________________________________________________________\n",
      "batch_normalization_8 (BatchNor (None, 256)          1024        time_fc1[0][0]                   \n",
      "__________________________________________________________________________________________________\n",
      "ground_fc1 (Dense)              (None, 256)          12845312    flatten_1[0][0]                  \n",
      "__________________________________________________________________________________________________\n",
      "aerial_fc1 (Dense)              (None, 256)          12845312    flatten_2[0][0]                  \n",
      "__________________________________________________________________________________________________\n",
      "loc_fc2 (Dense)                 (None, 512)          131584      batch_normalization_5[0][0]      \n",
      "__________________________________________________________________________________________________\n",
      "time_fc2 (Dense)                (None, 512)          131584      batch_normalization_8[0][0]      \n",
      "__________________________________________________________________________________________________\n",
      "batch_normalization_1 (BatchNor (None, 256)          1024        ground_fc1[0][0]                 \n",
      "__________________________________________________________________________________________________\n",
      "batch_normalization_3 (BatchNor (None, 256)          1024        aerial_fc1[0][0]                 \n",
      "__________________________________________________________________________________________________\n",
      "batch_normalization_6 (BatchNor (None, 512)          2048        loc_fc2[0][0]                    \n",
      "__________________________________________________________________________________________________\n",
      "batch_normalization_9 (BatchNor (None, 512)          2048        time_fc2[0][0]                   \n",
      "__________________________________________________________________________________________________\n",
      "ground_fc2 (Dense)              (None, 128)          32896       batch_normalization_1[0][0]      \n",
      "__________________________________________________________________________________________________\n",
      "aerial_fc2 (Dense)              (None, 128)          32896       batch_normalization_3[0][0]      \n",
      "__________________________________________________________________________________________________\n",
      "loc_fc3 (Dense)                 (None, 128)          65664       batch_normalization_6[0][0]      \n",
      "__________________________________________________________________________________________________\n",
      "time_fc3 (Dense)                (None, 128)          65664       batch_normalization_9[0][0]      \n",
      "__________________________________________________________________________________________________\n",
      "batch_normalization_2 (BatchNor (None, 128)          512         ground_fc2[0][0]                 \n",
      "__________________________________________________________________________________________________\n",
      "batch_normalization_4 (BatchNor (None, 128)          512         aerial_fc2[0][0]                 \n",
      "__________________________________________________________________________________________________\n",
      "batch_normalization_7 (BatchNor (None, 128)          512         loc_fc3[0][0]                    \n",
      "__________________________________________________________________________________________________\n",
      "batch_normalization_10 (BatchNo (None, 128)          512         time_fc3[0][0]                   \n",
      "__________________________________________________________________________________________________\n",
      "concatenate_1 (Concatenate)     (None, 512)          0           batch_normalization_2[0][0]      \n",
      "                                                                 batch_normalization_4[0][0]      \n",
      "                                                                 batch_normalization_7[0][0]      \n",
      "                                                                 batch_normalization_10[0][0]     \n",
      "__________________________________________________________________________________________________\n",
      "concatenate_2 (Concatenate)     (None, 384)          0           batch_normalization_4[0][0]      \n",
      "                                                                 batch_normalization_7[0][0]      \n",
      "                                                                 batch_normalization_10[0][0]     \n",
      "__________________________________________________________________________________________________\n",
      "consist_fc1 (Dense)             (None, 256)          131328      concatenate_1[0][0]              \n",
      "__________________________________________________________________________________________________\n",
      "gr_trans_fc1 (Dense)            (None, 256)          33024       batch_normalization_2[0][0]      \n",
      "__________________________________________________________________________________________________\n",
      "ae_loc_time_trans_fc1 (Dense)   (None, 256)          98560       concatenate_2[0][0]              \n",
      "__________________________________________________________________________________________________\n",
      "batch_normalization_11 (BatchNo (None, 256)          1024        consist_fc1[0][0]                \n",
      "__________________________________________________________________________________________________\n",
      "batch_normalization_13 (BatchNo (None, 256)          1024        gr_trans_fc1[0][0]               \n",
      "__________________________________________________________________________________________________\n",
      "batch_normalization_15 (BatchNo (None, 256)          1024        ae_loc_time_trans_fc1[0][0]      \n",
      "__________________________________________________________________________________________________\n",
      "consist_fc2 (Dense)             (None, 512)          131584      batch_normalization_11[0][0]     \n",
      "__________________________________________________________________________________________________\n",
      "gr_trans_fc2 (Dense)            (None, 512)          131584      batch_normalization_13[0][0]     \n",
      "__________________________________________________________________________________________________\n",
      "ae_loc_time_trans_fc2 (Dense)   (None, 512)          131584      batch_normalization_15[0][0]     \n",
      "__________________________________________________________________________________________________\n",
      "batch_normalization_12 (BatchNo (None, 512)          2048        consist_fc2[0][0]                \n",
      "__________________________________________________________________________________________________\n",
      "batch_normalization_14 (BatchNo (None, 512)          2048        gr_trans_fc2[0][0]               \n",
      "__________________________________________________________________________________________________\n",
      "batch_normalization_16 (BatchNo (None, 512)          2048        ae_loc_time_trans_fc2[0][0]      \n",
      "__________________________________________________________________________________________________\n",
      "consist_fc3 (Dense)             (None, 2)            1026        batch_normalization_12[0][0]     \n",
      "__________________________________________________________________________________________________\n",
      "gr_trans_fc3 (Dense)            (None, 40)           20520       batch_normalization_14[0][0]     \n",
      "__________________________________________________________________________________________________\n",
      "ae_loc_time_trans_fc3 (Dense)   (None, 40)           20520       batch_normalization_16[0][0]     \n",
      "==================================================================================================\n",
      "Total params: 40,946,898\n",
      "Trainable params: 40,769,874\n",
      "Non-trainable params: 177,024\n",
      "__________________________________________________________________________________________________\n",
      "None\n"
     ]
    }
   ],
   "source": [
    "baseModel = load_model(pathToModel, custom_objects={\"transient_mse\": transient_mse})\n",
    "print(baseModel.summary())\n",
    "\n",
    "groundBranchModel = Model(baseModel.get_layer(\"groundInput\").input, \n",
    "                          baseModel.get_layer(\"batch_normalization_2\").output)\n",
    "aerialBranchModel = Model(baseModel.get_layer(\"aerialInput\").input, \n",
    "                          baseModel.get_layer(\"batch_normalization_4\").output)\n",
    "locBranchModel = Model(baseModel.get_layer(\"locationInput\").input, \n",
    "                       baseModel.get_layer(\"batch_normalization_7\").output)\n",
    "timeBranchModel =  Model(baseModel.get_layer(\"timeInput\").input, \n",
    "                         baseModel.get_layer(\"batch_normalization_10\").output)\n",
    "\n",
    "combinedFeaturesInput = Input(shape=(512,), name='concatenate_1_proxy')\n",
    "consistFeatures = baseModel.get_layer(\"consist_fc1\")(combinedFeaturesInput)\n",
    "consistFeatures = baseModel.get_layer(\"batch_normalization_11\")(consistFeatures)\n",
    "consistFeatures = baseModel.get_layer(\"consist_fc2\")(consistFeatures)\n",
    "consistFeatures = baseModel.get_layer(\"batch_normalization_12\")(consistFeatures)\n",
    "consistFeatures = baseModel.get_layer(\"consist_fc3\")(consistFeatures)\n",
    "consistModel = Model(combinedFeaturesInput, consistFeatures)\n",
    "\n",
    "\n",
    "grFeaturesInput = Input(shape=(128,), name='grFeaturesProxy')\n",
    "grTransFeatures = baseModel.get_layer(\"gr_trans_fc1\")(grFeaturesInput)\n",
    "grTransFeatures = baseModel.get_layer(\"batch_normalization_13\")(grTransFeatures)\n",
    "grTransFeatures = baseModel.get_layer(\"gr_trans_fc2\")(grTransFeatures)\n",
    "grTransFeatures = baseModel.get_layer(\"batch_normalization_14\")(grTransFeatures)\n",
    "grTransPred = baseModel.get_layer(\"gr_trans_fc3\")(grTransFeatures)\n",
    "grTransModel = Model(grFeaturesInput, grTransPred)\n",
    "\n",
    "combinedFeaturesInput = Input(shape=(384,), name='aeLocTimeFeaturesProxy')\n",
    "combinedTransFeatures = baseModel.get_layer(\"ae_loc_time_trans_fc1\")(combinedFeaturesInput)\n",
    "combinedTransFeatures = baseModel.get_layer(\"batch_normalization_15\")(combinedTransFeatures)\n",
    "combinedTransFeatures = baseModel.get_layer(\"ae_loc_time_trans_fc2\")(combinedTransFeatures)\n",
    "combinedTransFeatures = baseModel.get_layer(\"batch_normalization_16\")(combinedTransFeatures)\n",
    "combinedTransPred = baseModel.get_layer(\"ae_loc_time_trans_fc3\")(combinedTransFeatures)\n",
    "combinedTransModel = Model(combinedFeaturesInput, combinedTransPred)"
   ]
  },
  {
   "cell_type": "markdown",
   "metadata": {},
   "source": [
    "--------------\n",
    "--------------\n",
    "--------------\n",
    "--------------\n",
    "\n",
    "\n",
    "# Supplementary Material - VIII - Transient Attributes\n",
    "\n",
    "Evaluate the usefullness of each transient attribute to pinpoint if a sample is consistent or inconsistent."
   ]
  },
  {
   "cell_type": "code",
   "execution_count": 3,
   "metadata": {
    "scrolled": true
   },
   "outputs": [
    {
     "name": "stderr",
     "output_type": "stream",
     "text": [
      "100%|█████████▉| 24931/25000 [54:07<00:08,  7.89it/s]"
     ]
    }
   ],
   "source": [
    "dl = DataLoader(\"test\", \n",
    "                includeLocation = True, \n",
    "                includeSatellite = True, \n",
    "                outputTransientAttributes = True)\n",
    "\n",
    "consistentList = []\n",
    "inconsistentList = []\n",
    "\n",
    "idx=0\n",
    "pbar = tqdm(total=25000)\n",
    "\n",
    "for batch, _ in dl.loadTestDataInBatches(batchSize):    \n",
    "    grImg, aeImg, locInfo, timeInfo = [batch[i][0:1] for i in range(len(batch))]\n",
    "    _, _, _, fakeTimeInfo = [batch[i][1:2] for i in range(len(batch))]\n",
    "\n",
    "    grFeatures = groundBranchModel.predict_on_batch(grImg)\n",
    "    aeFeatures = aerialBranchModel.predict_on_batch(aeImg)\n",
    "    locFeatures = locBranchModel.predict_on_batch(locInfo)\n",
    "    timeFeatures = timeBranchModel.predict_on_batch(timeInfo)\n",
    "    fakeTimeFeatures = timeBranchModel.predict_on_batch(fakeTimeInfo)\n",
    "\n",
    "    \n",
    "    \n",
    "    ## Consistent sample\n",
    "    concatFV = np.hstack((grFeatures, aeFeatures, locFeatures, timeFeatures))\n",
    "    pred = consistModel.predict_on_batch(concatFV)\n",
    "    consistentProb = pred[0][0]\n",
    "    \n",
    "    grTransPred = grTransModel.predict_on_batch(grFeatures)[0]    \n",
    "    aeLocTimeFV = np.hstack((aeFeatures, locFeatures, timeFeatures))\n",
    "    combinedTransPred = combinedTransModel.predict_on_batch(aeLocTimeFV)[0]\n",
    "\n",
    "    consistentList += [(consistentProb, grTransPred, combinedTransPred)]\n",
    "    \n",
    "    \n",
    "    ## Inconsistent sample\n",
    "    concatFV = np.hstack((grFeatures, aeFeatures, locFeatures, fakeTimeFeatures))\n",
    "    pred = consistModel.predict_on_batch(concatFV)\n",
    "    consistentProb = pred[0][0]\n",
    "     \n",
    "    aeLocTimeFV = np.hstack((aeFeatures, locFeatures, fakeTimeFeatures))\n",
    "    combinedTransPred = combinedTransModel.predict_on_batch(aeLocTimeFV)[0]\n",
    "    \n",
    "    inconsistentList += [(consistentProb, grTransPred, combinedTransPred)]\n",
    "    \n",
    "    \n",
    "    idx += 1\n",
    "    pbar.update(1)\n",
    "   \n",
    "        \n",
    "sortedConsistentList = [x for x in sorted(consistentList, \n",
    "                                              key=lambda triplet: triplet[0], reverse=True)]\n",
    "\n",
    "sortedInconsistentList = [x for x in sorted(inconsistentList, \n",
    "                                              key=lambda triplet: triplet[0], reverse=False)]"
   ]
  },
  {
   "cell_type": "markdown",
   "metadata": {},
   "source": [
    "# Finding the transient attributes that are most usefull\n",
    "\n",
    "- Select all inconsistent samples with a confidence between `bottomConfidenteCutoffPoint` and `topConfidenteCutoffPoint`\n",
    "\n",
    "- Find the attributes with the most average absolute difference (MAE) between aG and aS"
   ]
  },
  {
   "cell_type": "code",
   "execution_count": 4,
   "metadata": {},
   "outputs": [
    {
     "name": "stdout",
     "output_type": "stream",
     "text": [
      "Top 15 attributes with higher mean absolute difference between aG and aS\n",
      "snow \t\t0.21270165\n",
      "winter \t\t0.20904224\n",
      "ice \t\t0.20816617\n",
      "cold \t\t0.20404322\n",
      "dry \t\t0.19490701\n",
      "lush \t\t0.19192418\n",
      "summer \t\t0.17725524\n",
      "moist \t\t0.17217226\n",
      "sunny \t\t0.16184948\n",
      "busy \t\t0.15459003\n",
      "colorful \t\t0.15162702\n",
      "daylight \t\t0.13584678\n",
      "warm \t\t0.13327956\n",
      "bright \t\t0.12675393\n",
      "spring \t\t0.119359665\n",
      "\n",
      "\n",
      "Ranking of categories \t\t(the lower the better)\n",
      "Season \t\t\t\t12.25\n",
      "Colors \t\t\t\t12.5\n",
      "Weather \t\t\t\t16.0\n",
      "Illumination \t\t\t\t16.6666666667\n",
      "Vegetation \t\t\t\t17.0\n",
      "Appearance \t\t\t\t18.5\n",
      "Period of the day \t\t\t\t23.0\n",
      "Subjective \t\t\t\t30.125\n"
     ]
    }
   ],
   "source": [
    "topConfidenteCutoffPoint = 1.0\n",
    "bottomConfidenteCutoffPoint = 0.8\n",
    "\n",
    "filteredList = np.array([np.abs(d[1] - d[2]) for d in sortedInconsistentList if bottomConfidenteCutoffPoint <= 1.0 - d[0] <= topConfidenteCutoffPoint])\n",
    "meanAbsoluteDifferencePerAttribute = np.mean(filteredList, axis=0)\n",
    "\n",
    "\n",
    "orderedAttributes = [(transLabels[p[0]], p[1]) for p in sorted(list(enumerate(meanAbsoluteDifferencePerAttribute)), \n",
    "                                              key=lambda pair: pair[1], reverse=True)]\n",
    "\n",
    "print(\"Top 15 attributes with higher mean absolute difference between aG and aS\")\n",
    "for ta, mae in orderedAttributes[:15]:\n",
    "    print ta, \"\\t\\t\", mae\n",
    "\n",
    "print(\"\\n\\nRanking of categories \\t\\t(the lower the better)\")\n",
    "categoryRanking = [0 for _ in transCategories]\n",
    "\n",
    "for rank, x in enumerate(orderedAttributes):\n",
    "    ta = x[0]\n",
    "    \n",
    "    for catIdx, attributeList in enumerate(transCategories.values()):\n",
    "        if ta in attributeList:\n",
    "            categoryRanking[catIdx] += rank / float(len(attributeList))\n",
    "            break\n",
    "\n",
    "            \n",
    "orderedCategories = [(transCategories.keys()[p[0]], p[1]) for p in sorted(list(enumerate(categoryRanking)), \n",
    "                                                                          key=lambda pair: pair[1], reverse=False)]\n",
    "            \n",
    "for catName, ranking in orderedCategories:\n",
    "    print(catName, \"\\t\\t\\t\\t\", ranking)"
   ]
  },
  {
   "cell_type": "markdown",
   "metadata": {},
   "source": [
    "# Formalizing the comparison between aG and aS\n",
    "\n",
    "Compute the mean absolute distance between aG and aS for high confidence consistent samples and high confidence inconsistent samples:"
   ]
  },
  {
   "cell_type": "code",
   "execution_count": 57,
   "metadata": {},
   "outputs": [],
   "source": [
    "confidenceList = np.arange(0.50, 1.05, 0.05)\n",
    "\n",
    "\n",
    "consistentDist = []\n",
    "inconsistentDist = []\n",
    "for binIdx in range(1, len(confidenceList)):\n",
    "    previousCutoffPoint = confidenceList[binIdx-1]\n",
    "    cutoffPoint = confidenceList[binIdx]\n",
    "    meanAbsDistInconsistent = np.mean([np.abs(d[1] - d[2]) for d in sortedInconsistentList \n",
    "                                       if previousCutoffPoint < 1.0 - d[0] <= cutoffPoint])\n",
    "\n",
    "    inconsistentDist += [meanAbsDistInconsistent]\n",
    "    \n",
    "    meanAbsDistConsistent = np.mean([np.abs(d[1] - d[2]) for d in sortedConsistentList \n",
    "                                     if previousCutoffPoint < d[0] <= cutoffPoint])\n",
    "    \n",
    "    consistentDist += [meanAbsDistConsistent]\n",
    "    "
   ]
  },
  {
   "cell_type": "code",
   "execution_count": 58,
   "metadata": {},
   "outputs": [
    {
     "data": {
      "image/png": "[encoded data removed]",
      "text/plain": [
       "<matplotlib.figure.Figure at 0x7f226266a0d0>"
      ]
     },
     "metadata": {
      "needs_background": "light"
     },
     "output_type": "display_data"
    }
   ],
   "source": [
    "fig=plt.figure(figsize=(8,4))\n",
    "columns = 1\n",
    "rows = 1\n",
    "\n",
    "fig.add_subplot(rows, columns, 1)\n",
    "fig.tight_layout()\n",
    "\n",
    "plt.xticks(range(len(confidenceList)-1), \n",
    "           [\"{:d}% - {:d}%\".format(x,x+5) for x in range(0, 100, 5)],\n",
    "           size=13, rotation=45)\n",
    "\n",
    "plt.ylabel(\"Mean Absolute Difference - |aG - aS|\", fontstyle= \"oblique\")\n",
    "\n",
    "\n",
    "\n",
    "\n",
    "plt.plot(range(len(confidenceList)-1), consistentDist, lw=4, c='b')\n",
    "plt.plot(range(len(confidenceList)-1), inconsistentDist, lw=4, c='r')\n",
    "plt.show()"
   ]
  },
  {
   "cell_type": "code",
   "execution_count": 59,
   "metadata": {},
   "outputs": [
    {
     "data": {
      "image/png": "[encoded data removed]",
      "text/plain": [
       "<matplotlib.figure.Figure at 0x7f2249e17810>"
      ]
     },
     "metadata": {
      "needs_background": "light"
     },
     "output_type": "display_data"
    }
   ],
   "source": [
    "fig=plt.figure(figsize=(8,4))\n",
    "columns = 1\n",
    "rows = 1\n",
    "\n",
    "fig.add_subplot(rows, columns, 1)\n",
    "fig.tight_layout()\n",
    "\n",
    "plt.xticks(range(len(confidenceList)), \n",
    "           [\"{0:d}%\".format(x,x+5) for x in range(50, 105, 5)])\n",
    "plt.ylim((0.08, 0.18))\n",
    "plt.title(\"All Transient Attributes\")\n",
    "plt.ylabel(\"Mean Absolute Difference - |aG - aS|\", fontstyle= \"oblique\")\n",
    "plt.xlabel(\"Classification Confidence Intervals\")\n",
    "\n",
    "plt.bar(range(len(confidenceList)-1), consistentDist, align = \"edge\", alpha=0.2, label=\"Consistent\")\n",
    "plt.bar(range(len(confidenceList)-1), inconsistentDist, align = \"edge\", alpha=0.2, label=\"Inconsistent\")\n",
    "plt.axhline(y=0.1043887147, color='grey', alpha=0.8, linestyle='--')\n",
    "\n",
    "plt.legend()\n",
    "\n",
    "plt.show()"
   ]
  },
  {
   "cell_type": "markdown",
   "metadata": {},
   "source": [
    "### Considering only Illumination, Colors and Period of the day features"
   ]
  },
  {
   "cell_type": "code",
   "execution_count": 60,
   "metadata": {},
   "outputs": [],
   "source": [
    "attributesOfInterest = transCategories[\"Illumination\"] + \\\n",
    "                        transCategories[\"Period of the day\"] + \\\n",
    "                        transCategories[\"Colors\"]\n",
    "\n",
    "\n",
    "weights = np.array([1.0 if att in attributesOfInterest else 0.0 for att in  transLabels])"
   ]
  },
  {
   "cell_type": "code",
   "execution_count": 61,
   "metadata": {},
   "outputs": [],
   "source": [
    "confidenceList = np.arange(0.50, 1.05, 0.05)\n",
    "\n",
    "\n",
    "consistentDist = []\n",
    "inconsistentDist = []\n",
    "for binIdx in range(1, len(confidenceList)):\n",
    "    previousCutoffPoint = confidenceList[binIdx-1]\n",
    "    cutoffPoint = confidenceList[binIdx]\n",
    "    absDistInconsistent = [weights * np.abs(d[1] - d[2]) for d in sortedInconsistentList \n",
    "                                       if previousCutoffPoint < 1.0 - d[0] <= cutoffPoint]\n",
    "    meanAbsDistInconsistent = np.nanmean(np.where(absDistInconsistent!=0,absDistInconsistent,np.nan))\n",
    "\n",
    "    inconsistentDist += [meanAbsDistInconsistent]\n",
    "    \n",
    "    absDistConsistent = [weights * np.abs(d[1] - d[2]) for d in sortedConsistentList \n",
    "                                     if previousCutoffPoint < d[0] <= cutoffPoint]\n",
    "    meanAbsDistConsistent = np.nanmean(np.where(absDistConsistent!=0,absDistConsistent,np.nan))\n",
    "    \n",
    "    consistentDist += [meanAbsDistConsistent]\n",
    "    "
   ]
  },
  {
   "cell_type": "code",
   "execution_count": 62,
   "metadata": {},
   "outputs": [
    {
     "data": {
      "image/png": "[encoded data removed]",
      "text/plain": [
       "<matplotlib.figure.Figure at 0x7f2249dc40d0>"
      ]
     },
     "metadata": {
      "needs_background": "light"
     },
     "output_type": "display_data"
    }
   ],
   "source": [
    "fig=plt.figure(figsize=(8,4))\n",
    "columns = 1\n",
    "rows = 1\n",
    "\n",
    "fig.add_subplot(rows, columns, 1)\n",
    "fig.tight_layout()\n",
    "\n",
    "plt.xticks(range(len(confidenceList)-1), \n",
    "           [\"{:d}% - {:d}%\".format(x,x+5) for x in range(50, 100, 5)],\n",
    "           size=13, rotation=45)\n",
    "\n",
    "plt.ylabel(\"Mean Absolute Difference - |aG - aS|\", fontstyle= \"oblique\")\n",
    "# plt.xlabel(\"Consistent Probability Intervals\")\n",
    "\n",
    "\n",
    "\n",
    "plt.plot(range(len(confidenceList)-1), consistentDist, lw=4, c='b')\n",
    "plt.plot(range(len(confidenceList)-1), inconsistentDist, lw=4, c='r')\n",
    "plt.show()"
   ]
  },
  {
   "cell_type": "code",
   "execution_count": 63,
   "metadata": {},
   "outputs": [
    {
     "data": {
      "image/png": "[encoded data removed]",
      "text/plain": [
       "<matplotlib.figure.Figure at 0x7f2249cd4ad0>"
      ]
     },
     "metadata": {
      "needs_background": "light"
     },
     "output_type": "display_data"
    }
   ],
   "source": [
    "fig=plt.figure(figsize=(8,4))\n",
    "columns = 1\n",
    "rows = 1\n",
    "\n",
    "fig.add_subplot(rows, columns, 1)\n",
    "fig.tight_layout()\n",
    "\n",
    "plt.xticks(range(len(confidenceList)), \n",
    "           [\"{0:d}%\".format(x,x+5) for x in range(50, 105, 5)])\n",
    "plt.xlim((-0.5,len(confidenceList)-1 +0.1))\n",
    "plt.ylim((0.02, 0.055))\n",
    "plt.title(\"Illumination, Period of the Day, Colors\")\n",
    "plt.ylabel(\"Mean Absolute Difference - |aG - aS|\", fontstyle= \"oblique\")\n",
    "plt.xlabel(\"Classification Confidence Intervals\")\n",
    "\n",
    "plt.bar(range(len(confidenceList)-1), consistentDist, align = \"edge\", alpha=0.2, label=\"Consistent\")\n",
    "plt.bar(range(len(confidenceList)-1), inconsistentDist, align = \"edge\", alpha=0.2, label=\"Inconsistent\")\n",
    "plt.axhline(y=0.02845674487, color='grey', alpha=0.8, linestyle='--')\n",
    "\n",
    "\n",
    "plt.legend()\n",
    "\n",
    "plt.show()"
   ]
  },
  {
   "cell_type": "markdown",
   "metadata": {},
   "source": [
    "--------------\n",
    "--------------\n",
    "--------------\n",
    "--------------\n",
    "\n",
    "\n",
    "# IV.I - Transient Attribute Influence Analysis\n",
    "\n",
    "Evaluate the mutual information between aG and aS for consistent and inconsistent samples\n",
    "\n",
    "### Mutual Information definition"
   ]
  },
  {
   "cell_type": "code",
   "execution_count": null,
   "metadata": {},
   "outputs": [],
   "source": [
    "from scipy import ndimage\n",
    "\n",
    "def mutual_information_2d(x, y, sigma=1, normalized=False, nBins=100):\n",
    "    \"\"\"\n",
    "    Computes (normalized) mutual information between two 1D variate from a\n",
    "    joint histogram.\n",
    "    Parameters\n",
    "    ----------\n",
    "    x : 1D array\n",
    "        first variable\n",
    "    y : 1D array\n",
    "        second variable\n",
    "    sigma: float\n",
    "        sigma for Gaussian smoothing of the joint histogram\n",
    "    Returns\n",
    "    -------\n",
    "    nmi: float\n",
    "        the computed similariy measure\n",
    "    \"\"\"\n",
    "    bins = (nBins, nBins)\n",
    "    EPS = np.finfo(float).eps\n",
    "\n",
    "    jh = np.histogram2d(x, y, bins=bins)[0]\n",
    "\n",
    "    # smooth the jh with a gaussian filter of given sigma\n",
    "    ndimage.gaussian_filter(jh, sigma=sigma, mode='constant',\n",
    "                                 output=jh)\n",
    "\n",
    "    # compute marginal histograms\n",
    "    jh = jh + EPS\n",
    "    sh = np.sum(jh)\n",
    "    jh = jh / sh\n",
    "    s1 = np.sum(jh, axis=0).reshape((-1, jh.shape[0]))\n",
    "    s2 = np.sum(jh, axis=1).reshape((jh.shape[1], -1))\n",
    "\n",
    "    # Normalised Mutual Information of:\n",
    "    # Studholme,  jhill & jhawkes (1998).\n",
    "    # \"A normalized entropy measure of 3-D medical image alignment\".\n",
    "    # in Proc. Medical Imaging 1998, vol. 3338, San Diego, CA, pp. 132-143.\n",
    "    if normalized:\n",
    "        mi = ((np.sum(s1 * np.log(s1)) + np.sum(s2 * np.log(s2)))\n",
    "                / np.sum(jh * np.log(jh))) - 1\n",
    "    else:\n",
    "        mi = ( np.sum(jh * np.log(jh)) - np.sum(s1 * np.log(s1))\n",
    "               - np.sum(s2 * np.log(s2)))\n",
    "\n",
    "    return mi"
   ]
  },
  {
   "cell_type": "markdown",
   "metadata": {},
   "source": [
    "For a single transient attribute, compute aG and aS for every image in train/test. Compute a 2-D histogram (aG and aS) for tampered and real samples. "
   ]
  },
  {
   "cell_type": "code",
   "execution_count": null,
   "metadata": {},
   "outputs": [],
   "source": [
    "realProbList = []\n",
    "realAttributeList = [[] for _ in transLabels]\n",
    "\n",
    "tamperedProbList = []\n",
    "tamperedAttributeList = [[] for _ in transLabels]\n",
    "\n",
    "bIdx = 0\n",
    "for batch, label in dl.loadTestDataInBatches(batchSize):\n",
    "    pred, grAtr, aeLocTimeAtr = baseModel.predict(batch)\n",
    "\n",
    "    bIdx += 1\n",
    "    for idx in range(len(transLabels)):\n",
    "        realAttributeList[idx].append((grAtr[0,idx], aeLocTimeAtr[0,idx]))\n",
    "        tamperedAttributeList[idx].append((grAtr[1,idx], aeLocTimeAtr[1,idx]))\n",
    "    \n",
    "    realProbList.append(pred[0][0])\n",
    "    tamperedProbList.append(pred[1][1])\n",
    "        \n",
    "    if (bIdx % 100) == 0:\n",
    "        print(bIdx, \" / 25000\")\n",
    "        \n",
    "realAttributeList = np.array(realAttributeList)\n",
    "tamperedAttributeList = np.array(tamperedAttributeList)\n",
    "realProbList = np.array(realProbList)\n",
    "tamperedProbList = np.array(tamperedProbList)\n",
    "\n",
    "\n",
    "\n",
    "original_realAttributeList = np.copy(realAttributeList)\n",
    "original_tamperedAttributeList = np.copy(tamperedAttributeList)"
   ]
  },
  {
   "cell_type": "markdown",
   "metadata": {},
   "source": [
    "Filtering samples that were classified with a high confidence"
   ]
  },
  {
   "cell_type": "code",
   "execution_count": null,
   "metadata": {},
   "outputs": [],
   "source": [
    "### Filter those with high prob\n",
    "thresholdProb = 0.90\n",
    "realAttributeList = np.copy(original_realAttributeList)\n",
    "tamperedAttributeList = np.copy(original_tamperedAttributeList)\n",
    "\n",
    "print(original_realAttributeList.shape, original_tamperedAttributeList.shape, realProbList.shape)\n",
    "\n",
    "realAttributeList = realAttributeList[:, realProbList > thresholdProb, :]\n",
    "tamperedAttributeList = tamperedAttributeList[:,tamperedProbList > thresholdProb,:]\n",
    "\n",
    "print(original_realAttributeList.shape, realAttributeList.shape)\n",
    "print(original_tamperedAttributeList.shape, tamperedAttributeList.shape)"
   ]
  },
  {
   "cell_type": "markdown",
   "metadata": {},
   "source": [
    "Compute the mutual information"
   ]
  },
  {
   "cell_type": "code",
   "execution_count": null,
   "metadata": {},
   "outputs": [],
   "source": [
    "nBins = 15\n",
    "\n",
    "mInfoList = []\n",
    "y = []\n",
    "for idx,attributeName in enumerate(transLabels):\n",
    "    realMI =  mutual_information_2d(realAttributeList[idx, :, 0], realAttributeList[idx, :, 1], \n",
    "                                    normalized=True, nBins=nBins)\n",
    "    tampMI =  mutual_information_2d(tamperedAttributeList[idx, :, 0], tamperedAttributeList[idx, :, 1], \n",
    "                                    normalized=True, nBins=nBins)\n",
    "    y.append((realMI, tampMI))\n",
    "    mInfoList.append(realMI - tampMI)\n",
    "\n",
    "sortedIdx = [x for _,x in sorted(zip(mInfoList,list(range(len(transLabels)))))][::-1]\n",
    "\n",
    "for idx in sortedIdx:\n",
    "    print(transLabels[idx], \" : \", mInfoList[idx]) #, \"\\t\", y[idx][0], y[idx][1])"
   ]
  },
  {
   "cell_type": "markdown",
   "metadata": {},
   "source": [
    "Plot heatmap:"
   ]
  },
  {
   "cell_type": "code",
   "execution_count": null,
   "metadata": {},
   "outputs": [],
   "source": [
    "for idx in sortedIdx:\n",
    "    attributeName = transLabels[idx]\n",
    "    fig = plt.figure()\n",
    "    \n",
    "    H, xedges, yedges = np.histogram2d(realAttributeList[idx, :, 0], realAttributeList[idx, :, 1],\n",
    "                                       bins=nBins, range=[[0, 1.0], [0.0, 1.0]])\n",
    "    H = H/np.max(H)\n",
    "    fig.add_subplot(121, title='Real - ' + attributeName, \n",
    "                         aspect='equal', xlim=xedges[[0, -1]], ylim=yedges[[0, -1]])\n",
    "\n",
    "    plt.imshow(H, interpolation='nearest', origin='low', extent=[xedges[0], xedges[-1], yedges[0], yedges[-1]])\n",
    "\n",
    "    \n",
    "    \n",
    "    fig.add_subplot(122, title='Tamp - ' + attributeName, \n",
    "                         aspect='equal', xlim=xedges[[0, -1]], ylim=yedges[[0, -1]])\n",
    "    H, xedges, yedges = np.histogram2d(tamperedAttributeList[idx, :, 0], tamperedAttributeList[idx, :, 1],\n",
    "                                       bins=nBins, range=[[0, 1.0], [0.0, 1.0]])\n",
    "    H = H/np.max(H)\n",
    "\n",
    "    plt.imshow(H, interpolation='nearest', origin='low', extent=[xedges[0], xedges[-1], yedges[0], yedges[-1]])"
   ]
  },
  {
   "cell_type": "markdown",
   "metadata": {},
   "source": [
    "Visualize the distribution:"
   ]
  },
  {
   "cell_type": "code",
   "execution_count": null,
   "metadata": {},
   "outputs": [],
   "source": [
    "nBins = 15\n",
    "\n",
    "for idx in sortedIdx:\n",
    "    attributeName = transLabels[idx]\n",
    "    fig = plt.figure()\n",
    "    \n",
    "    rDist = np.abs(realAttributeList[idx, :, 0] - realAttributeList[idx, :, 1])\n",
    "    tDist = np.abs(tamperedAttributeList[idx, :, 0] - tamperedAttributeList[idx, :, 1])\n",
    "\n",
    "    plt.hist(rDist, nBins, alpha=0.5, label='consistent', density=True)\n",
    "    plt.hist(tDist, nBins, alpha=0.5, label='inconsistent', density=True)\n",
    "    plt.title(attributeName)\n",
    "    plt.legend(loc='upper right')\n",
    "    plt.savefig(\"attributes/dHist_\" + attributeName + \".png\", dpi=150)\n",
    "    plt.show()"
   ]
  },
  {
   "cell_type": "code",
   "execution_count": null,
   "metadata": {},
   "outputs": [],
   "source": [
    "nBins = 100\n",
    "nToConsider = 5\n",
    "\n",
    "def top_k_values(array):\n",
    "    indexes = array.argsort()[-nToConsider:][::-1]\n",
    "    A = set(indexes)\n",
    "    B = set(list(range(array.shape[0])))\n",
    "    array[list(B.difference(A))]=0\n",
    "    return np.sum(array)\n",
    "\n",
    "\n",
    "rDist = np.abs(realAttributeList[:, :, 0] - realAttributeList[:, :, 1]).T\n",
    "tDist = np.abs(tamperedAttributeList[:, :, 0] - tamperedAttributeList[:, :, 1]).T\n",
    "\n",
    "print(rDist.shape, tDist.shape)\n",
    "\n",
    "rDist = np.apply_along_axis(top_k_values, 1, rDist)\n",
    "tDist = np.apply_along_axis(top_k_values, 1, tDist)\n",
    "\n",
    "print(rDist.shape, tDist.shape)\n",
    "        \n",
    "fig, axs = plt.subplots(1, 2, sharey=False, sharex=True, tight_layout=False)\n",
    "axs[0].set_title('Real - top ' + str(nToConsider) + ' divergent att')\n",
    "axs[0].hist(rDist, bins=nBins)\n",
    "\n",
    "dist = np.abs(tamperedAttributeList[idx, :, 0] - tamperedAttributeList[idx, :, 1])\n",
    "axs[1].set_title('Tamp - top ' + str(nToConsider) + ' divergent att')\n",
    "axs[1].hist(tDist, bins=nBins)\n",
    "plt.show()\n",
    "\n",
    "\n",
    "plt.hist(rDist, nBins, alpha=0.5, label='real', density=True)\n",
    "plt.hist(tDist, nBins, alpha=0.5, label='tamp', density=True)\n",
    "plt.legend(loc='upper right')\n",
    "plt.show()"
   ]
  }
 ],
 "metadata": {
  "kernelspec": {
   "display_name": "Python 2",
   "language": "python",
   "name": "python2"
  },
  "language_info": {
   "codemirror_mode": {
    "name": "ipython",
    "version": 2
   },
   "file_extension": ".py",
   "mimetype": "text/x-python",
   "name": "python",
   "nbconvert_exporter": "python",
   "pygments_lexer": "ipython2",
   "version": "2.7.15+"
  }
 },
 "nbformat": 4,
 "nbformat_minor": 2
}
