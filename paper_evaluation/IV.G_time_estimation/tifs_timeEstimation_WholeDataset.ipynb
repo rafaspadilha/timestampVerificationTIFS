{
 "cells": [
  {
   "cell_type": "markdown",
   "metadata": {},
   "source": [
    "# IV.G - Timestamp Estimation - Average Heatmap\n",
    "\n",
    "Code for generating the average consistency heatmap for the timestamp estimation considering the whole dataset"
   ]
  },
  {
   "cell_type": "code",
   "execution_count": 14,
   "metadata": {},
   "outputs": [],
   "source": [
    "# !pip install --upgrade scikit-image\n",
    "# !pip install pyproj\n",
    "# !pip install tqdm"
   ]
  },
  {
   "cell_type": "markdown",
   "metadata": {},
   "source": [
    "### Imports & Definitions"
   ]
  },
  {
   "cell_type": "code",
   "execution_count": 2,
   "metadata": {},
   "outputs": [
    {
     "name": "stderr",
     "output_type": "stream",
     "text": [
      "Using TensorFlow backend.\n"
     ]
    }
   ],
   "source": [
    "import numpy as np\n",
    "import matplotlib.pyplot as plt\n",
    "\n",
    "import os, sys\n",
    "\n",
    "from itertools import product\n",
    "import matplotlib.image as mpimg\n",
    "import pyproj\n",
    "\n",
    "from skimage import transform\n",
    "\n",
    "sys.path.append(\"../../datasets\")\n",
    "from dataLoader import DataLoader, preprocess_time\n",
    "\n",
    "from tf.keras.models import Model, load_model\n",
    "from tf.keras.layers import Input\n",
    "from tf.keras.losses import mean_squared_error\n",
    "\n",
    "transLabels = [\"dirty\", \"daylight\", \"night\", \"sunrisesunset\", \"dawndusk\", \"sunny\", \"clouds\", \n",
    "               \"fog\", \"storm\", \"snow\", \"warm\", \"cold\", \"busy\", \"beautiful\", \"flowers\", \"spring\", \n",
    "               \"summer\", \"autumn\", \"winter\", \"glowing\", \"colorful\", \"dull\", \"rugged\", \"midday\", \n",
    "               \"dark\", \"bright\", \"dry\", \"moist\", \"windy\", \"rain\", \"ice\", \"cluttered\", \"soothing\", \n",
    "               \"stressful\", \"exciting\", \"sentimental\", \"mysterious\", \"boring\", \"gloomy\", \"lush\"]\n",
    "\n",
    "\n",
    "batchSize = 1\n",
    "pathToModel = \"../IV.B_ablation_study/denseNet/gr_oh_loc_time_TA/weights.30-0.57407.hdf5\"\n",
    "gpuNumber = 4\n",
    "\n",
    "## GPU selection\n",
    "import tensorflow as tf \n",
    "gpus = tf.config.experimental.list_physical_devices('GPU')\n",
    "tf.config.experimental.set_visible_devices(gpus[gpuNumber], 'GPU')\n",
    "tf.config.experimental.set_memory_growth(gpus[gpuNumber], False)\n",
    "\n",
    "\n",
    "\n",
    "#######################\n",
    "##    Custom MSE     ##\n",
    "#######################\n",
    "# We will compute the MSE only for the consistent inputs\n",
    "def transient_mse(y_true, y_pred):\n",
    "    return tf.sum(mean_squared_error(y_true[0::2,:], y_pred[0::2,:]), axis=-1)\n",
    "\n",
    "\n",
    "\n",
    "#######################\n",
    "## Deprocess time\n",
    "#######################\n",
    "def deprocess_time(time):\n",
    "    month, hour = time\n",
    "    month = (11.0 / 2.0) * (month + 1) + 1\n",
    "    hour = (23.0 / 2.0) * (hour + 1)\n",
    "    return (int(round(month)), int(round(hour)))\n",
    "\n",
    "def deprocess_loc(loc):\n",
    "    _earth_radius = 6378137.0\n",
    "    x,y,z = loc\n",
    "    ecef = pyproj.Proj(proj='geocent', ellps='WGS84', datum='WGS84')\n",
    "    lla = pyproj.Proj(proj='latlong', ellps='WGS84', datum='WGS84')\n",
    "    \n",
    "    lon, lat, alt = pyproj.transform(ecef, lla, x * _earth_radius, y*_earth_radius, z*_earth_radius, radians=False)\n",
    "    return (lat, lon, alt)"
   ]
  },
  {
   "cell_type": "markdown",
   "metadata": {},
   "source": [
    "### Load architecture and get pointers to specific layers\n",
    "As we will process the features from multiple timestamps, we avoid re-processing the features for the ground-level image, location, and satellite image"
   ]
  },
  {
   "cell_type": "code",
   "execution_count": 3,
   "metadata": {},
   "outputs": [
    {
     "name": "stdout",
     "output_type": "stream",
     "text": [
      "WARNING:tensorflow:From /usr/local/lib/python2.7/dist-packages/tensorflow_core/python/ops/resource_variable_ops.py:1630: calling __init__ (from tensorflow.python.ops.resource_variable_ops) with constraint is deprecated and will be removed in a future version.\n",
      "Instructions for updating:\n",
      "If using Keras pass *_constraint arguments to layers.\n",
      "WARNING:tensorflow:From /usr/local/lib/python2.7/dist-packages/keras/backend/tensorflow_backend.py:4070: The name tf.nn.max_pool is deprecated. Please use tf.nn.max_pool2d instead.\n",
      "\n",
      "WARNING:tensorflow:From /usr/local/lib/python2.7/dist-packages/keras/backend/tensorflow_backend.py:4074: The name tf.nn.avg_pool is deprecated. Please use tf.nn.avg_pool2d instead.\n",
      "\n",
      "WARNING:tensorflow:From /usr/local/lib/python2.7/dist-packages/keras/backend/tensorflow_backend.py:422: The name tf.global_variables is deprecated. Please use tf.compat.v1.global_variables instead.\n",
      "\n"
     ]
    }
   ],
   "source": [
    "baseModel = load_model(pathToModel, custom_objects={\"transient_mse\": transient_mse})\n",
    "print(baseModel.summary())\n",
    "\n",
    "groundBranchModel = Model(baseModel.get_layer(\"groundInput\").input, \n",
    "                          baseModel.get_layer(\"batch_normalization_2\").output)\n",
    "aerialBranchModel = Model(baseModel.get_layer(\"aerialInput\").input, \n",
    "                          baseModel.get_layer(\"batch_normalization_4\").output)\n",
    "locBranchModel = Model(baseModel.get_layer(\"locationInput\").input, \n",
    "                       baseModel.get_layer(\"batch_normalization_7\").output)\n",
    "timeBranchModel =  Model(baseModel.get_layer(\"timeInput\").input, \n",
    "                         baseModel.get_layer(\"batch_normalization_10\").output)\n",
    "\n",
    "\n",
    "combinedFeaturesInput = Input(shape=(512,), name='concatenate_1_proxy')\n",
    "combinedFeatures = baseModel.get_layer(\"consist_fc1\")(combinedFeaturesInput)\n",
    "combinedFeatures = baseModel.get_layer(\"batch_normalization_11\")(combinedFeatures)\n",
    "combinedFeatures = baseModel.get_layer(\"consist_fc2\")(combinedFeatures)\n",
    "combinedFeatures = baseModel.get_layer(\"batch_normalization_12\")(combinedFeatures)\n",
    "combinedFeatures = baseModel.get_layer(\"consist_fc3\")(combinedFeatures)\n",
    "combineModel = Model(combinedFeaturesInput, combinedFeatures)"
   ]
  },
  {
   "cell_type": "markdown",
   "metadata": {},
   "source": [
    "--------------\n",
    "--------------\n",
    "--------------\n",
    "--------------\n",
    "\n",
    "\n",
    "### Predicting the consistency probability for all hours and months"
   ]
  },
  {
   "cell_type": "code",
   "execution_count": 59,
   "metadata": {},
   "outputs": [
    {
     "name": "stderr",
     "output_type": "stream",
     "text": [
      "100%|█████████▉| 24931/25000 [20:35:14<03:25,  2.97s/it]   \n"
     ]
    }
   ],
   "source": [
    "dl = DataLoader(\"test\", \n",
    "                includeLocation = True, \n",
    "                includeSatellite = True, \n",
    "                outputTransientAttributes = True)\n",
    "\n",
    "adjustedHeatMapMatrix = np.zeros((12, 24))\n",
    "\n",
    "idx=0\n",
    "pbar = tqdm(total=25000)\n",
    "\n",
    "for batch, _ in dl.loadTestDataInBatches(batchSize):\n",
    "    grImg, aeImg, locInfo, timeInfo = [batch[i][0:1] for i in range(len(batch))]\n",
    "    \n",
    "    dLoc = deprocess_loc(locInfo[0])\n",
    "    timeInfo = deprocess_time(timeInfo[0])\n",
    "\n",
    "    grFeatures = groundBranchModel.predict_on_batch(grImg)\n",
    "    aeFeatures = aerialBranchModel.predict_on_batch(aeImg)\n",
    "    locFeatures = locBranchModel.predict_on_batch(locInfo)\n",
    "    dLoc = deprocess_loc(locInfo[0])\n",
    "\n",
    "\n",
    "    timeList, predList = [], []\n",
    "    for month, hour in product(range(1,13), range(24)):\n",
    "        timeFeatures = timeBranchModel.predict_on_batch(preprocess_time((month, hour)).reshape(1,-1))\n",
    "        \n",
    "        concatFV = np.hstack((grFeatures, aeFeatures, locFeatures, timeFeatures))\n",
    "        pred = consistModel.predict_on_batch(concatFV)\n",
    "        consistentProb = pred[0][0]\n",
    "        \n",
    "        timeList += [(month, hour)]\n",
    "        predList += [consistentProb]\n",
    "\n",
    "    sortedTimeList = [(y,x) for y,x in sorted(zip(predList,timeList), \n",
    "                                                  key=lambda pair: pair[0], reverse=True)]\n",
    "    sortedProbs = [l[0] for l in sortedTimeList]\n",
    "    sortedTimes = [l[1] for l in sortedTimeList]\n",
    "\n",
    "    \n",
    "    deltaHtoGT = 12 - timeInfo[1] \n",
    "    deltaMtoGT = 6 - timeInfo[0]\n",
    "\n",
    "    for i in range(len(sortedTimes)):\n",
    "        month, hour = sortedTimes[i]\n",
    "        adjustedHeatMapMatrix[(month + deltaMtoGT)%12,((hour + deltaHtoGT)%24)] += sortedProbs[i]\n",
    "        \n",
    "    idx += 1\n",
    "    \n",
    "    pbar.update(1)\n",
    "\n",
    "pbar.close()\n",
    "\n",
    "adjustedHeatMapMatrix /= float(idx)\n"
   ]
  },
  {
   "cell_type": "code",
   "execution_count": 60,
   "metadata": {},
   "outputs": [
    {
     "data": {
      "image/png": "[encoded data removed]",
      "text/plain": [
       "<matplotlib.figure.Figure at 0x7fbcaa849ed0>"
      ]
     },
     "metadata": {
      "needs_background": "light"
     },
     "output_type": "display_data"
    }
   ],
   "source": [
    "fig=plt.figure(figsize=(8,8))\n",
    "columns = 1\n",
    "rows = 1\n",
    "\n",
    "fig.add_subplot(rows, columns, 1)\n",
    "fig.tight_layout()\n",
    "\n",
    "plt.xticks(range(0,24), \n",
    "           [\"-12\", \"-11\", \"-10\", \"-9\", \"-8\", \"-7\", \"-6\", \"-5\", \"-4\", \"-3\", \"-2\", \"-1\", \"H\",\n",
    "           \"+1\", \"+2\", \"+3\", \"+4\", \"+5\", \"+6\", \"+7\", \"+8\", \"+9\", \"+10\", \"+11\"], \n",
    "           rotation=50, size=13)\n",
    "plt.yticks(range(0,13), \n",
    "           [\"-6\", \"-5\", \"-4\", \"-3\", \"-2\", \"-1\", \"M\", \"+1\", \"+2\", \"+3\", \"+4\", \"+5\"],\n",
    "           size=13)\n",
    "plt.scatter(12, 6, lw=4, c='r', marker=\"*\")\n",
    "plt.imshow(adjustedHeatMapMatrix, cmap='viridis')\n",
    "plt.colorbar()\n",
    "plt.show()"
   ]
  },
  {
   "cell_type": "code",
   "execution_count": 61,
   "metadata": {},
   "outputs": [
    {
     "data": {
      "image/png": "[encoded data removed]",
      "text/plain": [
       "<matplotlib.figure.Figure at 0x7fc51f206150>"
      ]
     },
     "metadata": {
      "needs_background": "light"
     },
     "output_type": "display_data"
    }
   ],
   "source": [
    "fig=plt.figure(figsize=(8,8))\n",
    "columns = 1\n",
    "rows = 1\n",
    "\n",
    "fig.add_subplot(rows, columns, 1)\n",
    "fig.tight_layout()\n",
    "\n",
    "plt.xticks(range(0,24), \n",
    "           [\"-12\", \"-11\", \"-10\", \"-9\", \"-8\", \"-7\", \"-6\", \"-5\", \"-4\", \"-3\", \"-2\", \"-1\", \"H\",\n",
    "           \"+1\", \"+2\", \"+3\", \"+4\", \"+5\", \"+6\", \"+7\", \"+8\", \"+9\", \"+10\", \"+11\"], \n",
    "           rotation=50, size=13)\n",
    "plt.imshow(np.sum(adjustedHeatMapMatrix,axis=0).reshape(1,24), cmap='viridis')\n",
    "plt.show()"
   ]
  },
  {
   "cell_type": "code",
   "execution_count": 62,
   "metadata": {},
   "outputs": [
    {
     "name": "stdout",
     "output_type": "stream",
     "text": [
      "Average Error in hours = 4.21\n"
     ]
    }
   ],
   "source": [
    "hourWeight = np.array([12,11,10,9,8,7,6,5,4,3,2,1,0,1,2,3,4,5,6,7,8,9,10,11])\n",
    "hourError = np.sum( hourWeight * np.sum(adjustedHeatMapMatrix,axis=0) / np.sum(adjustedHeatMapMatrix) )\n",
    "print \"Average Error in hours = {:.2f}\".format(hourError)"
   ]
  },
  {
   "cell_type": "code",
   "execution_count": 63,
   "metadata": {},
   "outputs": [
    {
     "data": {
      "image/png": "[encoded data removed]",
      "text/plain": [
       "<matplotlib.figure.Figure at 0x7fc51f0d8c50>"
      ]
     },
     "metadata": {
      "needs_background": "light"
     },
     "output_type": "display_data"
    }
   ],
   "source": [
    "fig=plt.figure(figsize=(8,8))\n",
    "columns = 1\n",
    "rows = 1\n",
    "\n",
    "fig.add_subplot(rows, columns, 1)\n",
    "fig.tight_layout()\n",
    "\n",
    "plt.xticks(range(0,13), \n",
    "           [\"-6\", \"-5\", \"-4\", \"-3\", \"-2\", \"-1\", \"M\", \"+1\", \"+2\", \"+3\", \"+4\", \"+5\"], size=13)\n",
    "plt.imshow(np.sum(adjustedHeatMapMatrix,axis=1).reshape(1,12), cmap='viridis')\n",
    "# plt.colorbar()\n",
    "plt.show()"
   ]
  },
  {
   "cell_type": "code",
   "execution_count": 64,
   "metadata": {},
   "outputs": [
    {
     "name": "stdout",
     "output_type": "stream",
     "text": [
      "Average Error in months = 2.37\n"
     ]
    }
   ],
   "source": [
    "monthWeight = np.array([6,5,4,3,2,1,0,1,2,3,4,5])\n",
    "monthError = np.sum( monthWeight * np.sum(adjustedHeatMapMatrix,axis=1) / np.sum(adjustedHeatMapMatrix))\n",
    "print \"Average Error in months = {:.2f}\".format(monthError)"
   ]
  }
 ],
 "metadata": {
  "kernelspec": {
   "display_name": "Python 2",
   "language": "python",
   "name": "python2"
  },
  "language_info": {
   "codemirror_mode": {
    "name": "ipython",
    "version": 2
   },
   "file_extension": ".py",
   "mimetype": "text/x-python",
   "name": "python",
   "nbconvert_exporter": "python",
   "pygments_lexer": "ipython2",
   "version": "2.7.15+"
  }
 },
 "nbformat": 4,
 "nbformat_minor": 2
}
