{
 "cells": [
  {
   "cell_type": "markdown",
   "metadata": {},
   "source": [
    "# IV.G - Timestamp Estimation\n",
    "\n",
    "Code for generating the consistency heatmaps for the timestamp estimation of a single image"
   ]
  },
  {
   "cell_type": "code",
   "execution_count": null,
   "metadata": {},
   "outputs": [],
   "source": [
    "# !pip install --upgrade scikit-image\n",
    "# !pip install pyproj"
   ]
  },
  {
   "cell_type": "markdown",
   "metadata": {},
   "source": [
    "### Imports & Definitions"
   ]
  },
  {
   "cell_type": "code",
   "execution_count": 4,
   "metadata": {},
   "outputs": [],
   "source": [
    "import numpy as np\n",
    "import matplotlib.pyplot as plt\n",
    "\n",
    "import os, sys\n",
    "\n",
    "from itertools import product\n",
    "import matplotlib.image as mpimg\n",
    "import pyproj\n",
    "\n",
    "from skimage import transform\n",
    "\n",
    "sys.path.append(\"../../datasets\")\n",
    "from dataLoader import DataLoader, preprocess_time\n",
    "\n",
    "from tf.keras.models import Model, load_model\n",
    "from tf.keras.layers import Input\n",
    "from tf.keras.losses import mean_squared_error\n",
    "\n",
    "transLabels = [\"dirty\", \"daylight\", \"night\", \"sunrisesunset\", \"dawndusk\", \"sunny\", \"clouds\", \n",
    "               \"fog\", \"storm\", \"snow\", \"warm\", \"cold\", \"busy\", \"beautiful\", \"flowers\", \"spring\", \n",
    "               \"summer\", \"autumn\", \"winter\", \"glowing\", \"colorful\", \"dull\", \"rugged\", \"midday\", \n",
    "               \"dark\", \"bright\", \"dry\", \"moist\", \"windy\", \"rain\", \"ice\", \"cluttered\", \"soothing\", \n",
    "               \"stressful\", \"exciting\", \"sentimental\", \"mysterious\", \"boring\", \"gloomy\", \"lush\"]\n",
    "\n",
    "\n",
    "batchSize = 1\n",
    "pathToModel = \"../IV.B_ablation_study/denseNet/gr_oh_loc_time_TA/weights.30-0.57407.hdf5\"\n",
    "gpuNumber = 4\n",
    "\n",
    "## GPU selection\n",
    "import tensorflow as tf \n",
    "gpus = tf.config.experimental.list_physical_devices('GPU')\n",
    "tf.config.experimental.set_visible_devices(gpus[gpuNumber], 'GPU')\n",
    "tf.config.experimental.set_memory_growth(gpus[gpuNumber], False)\n",
    "\n",
    "\n",
    "\n",
    "#######################\n",
    "##    Custom MSE     ##\n",
    "#######################\n",
    "# We will compute the MSE only for the consistent inputs\n",
    "def transient_mse(y_true, y_pred):\n",
    "    return tf.sum(mean_squared_error(y_true[0::2,:], y_pred[0::2,:]), axis=-1)\n",
    "\n",
    "\n",
    "\n",
    "#######################\n",
    "## Deprocess time\n",
    "#######################\n",
    "def deprocess_time(time):\n",
    "    month, hour = time\n",
    "    month = (11.0 / 2.0) * (month + 1) + 1\n",
    "    hour = (23.0 / 2.0) * (hour + 1)\n",
    "    return (int(round(month)), int(round(hour)))\n",
    "\n",
    "def deprocess_loc(loc):\n",
    "    _earth_radius = 6378137.0\n",
    "    x,y,z = loc\n",
    "    ecef = pyproj.Proj(proj='geocent', ellps='WGS84', datum='WGS84')\n",
    "    lla = pyproj.Proj(proj='latlong', ellps='WGS84', datum='WGS84')\n",
    "    \n",
    "    lon, lat, alt = pyproj.transform(ecef, lla, x * _earth_radius, y*_earth_radius, z*_earth_radius, radians=False)\n",
    "    return (lat, lon, alt)"
   ]
  },
  {
   "cell_type": "markdown",
   "metadata": {},
   "source": [
    "### Load architecture and get pointers to specific layers\n",
    "As we will process the features from multiple timestamps, we avoid re-processing the features for the ground-level image, location, and satellite image"
   ]
  },
  {
   "cell_type": "code",
   "execution_count": 5,
   "metadata": {},
   "outputs": [
    {
     "name": "stdout",
     "output_type": "stream",
     "text": [
      "WARNING:tensorflow:From /usr/local/lib/python2.7/dist-packages/keras/backend/tensorflow_backend.py:422: The name tf.global_variables is deprecated. Please use tf.compat.v1.global_variables instead.\n",
      "\n"
     ]
    }
   ],
   "source": [
    "baseModel = load_model(pathToModel, custom_objects={\"transient_mse\": transient_mse})\n",
    "print(baseModel.summary())\n",
    "\n",
    "groundBranchModel = Model(baseModel.get_layer(\"groundInput\").input, \n",
    "                          baseModel.get_layer(\"batch_normalization_2\").output)\n",
    "aerialBranchModel = Model(baseModel.get_layer(\"aerialInput\").input, \n",
    "                          baseModel.get_layer(\"batch_normalization_4\").output)\n",
    "locBranchModel = Model(baseModel.get_layer(\"locationInput\").input, \n",
    "                       baseModel.get_layer(\"batch_normalization_7\").output)\n",
    "timeBranchModel =  Model(baseModel.get_layer(\"timeInput\").input, \n",
    "                         baseModel.get_layer(\"batch_normalization_10\").output)\n",
    "\n",
    "\n",
    "combinedFeaturesInput = Input(shape=(512,), name='concatenate_1_proxy')\n",
    "combinedFeatures = baseModel.get_layer(\"consist_fc1\")(combinedFeaturesInput)\n",
    "combinedFeatures = baseModel.get_layer(\"batch_normalization_11\")(combinedFeatures)\n",
    "combinedFeatures = baseModel.get_layer(\"consist_fc2\")(combinedFeatures)\n",
    "combinedFeatures = baseModel.get_layer(\"batch_normalization_12\")(combinedFeatures)\n",
    "combinedFeatures = baseModel.get_layer(\"consist_fc3\")(combinedFeatures)\n",
    "combineModel = Model(combinedFeaturesInput, combinedFeatures)"
   ]
  },
  {
   "cell_type": "markdown",
   "metadata": {},
   "source": [
    "--------------\n",
    "--------------\n",
    "--------------\n",
    "--------------\n",
    "\n",
    "\n",
    "### Predicting the consistency probability for all hours and months\n",
    "\n",
    "The `skipCount` variable allows us to control which image would be selected (without needing to adapt much of the dataLoader)"
   ]
  },
  {
   "cell_type": "code",
   "execution_count": 15,
   "metadata": {},
   "outputs": [
    {
     "name": "stdout",
     "output_type": "stream",
     "text": [
      "((1, 224, 224, 3), (1, 224, 224, 3), (1, 3), (1, 2))\n",
      "((7, 2), (45.46370000000002, 9.18814, -9.313225746154785e-10))\n",
      "('Correct time: ', (7, 2))\n",
      "('Top 1% times: ', [])\n",
      "('Top 5% times: ', [])\n",
      "('Top 5% pred: ', [], '\\n')\n"
     ]
    }
   ],
   "source": [
    "dl = DataLoader(\"test\", \n",
    "                includeLocation = True, \n",
    "                includeSatellite = True, \n",
    "                outputTransientAttributes = True)\n",
    "\n",
    "skipCount = 10\n",
    "\n",
    "for batch, _ in dl.loadTestDataInBatches(batchSize, allTestSet=False):\n",
    "    if skipCount >= 1:\n",
    "        skipCount-=1\n",
    "        continue\n",
    "    \n",
    "    grImg, aeImg, locInfo, timeInfo = [batch[i][0:1] for i in range(len(batch))]\n",
    "    \n",
    "    dLoc = deprocess_loc(locInfo[0])\n",
    "    timeInfo = deprocess_time(timeInfo[0])\n",
    "\n",
    "    grFeatures = groundBranchModel.predict_on_batch(grImg)\n",
    "    aeFeatures = aerialBranchModel.predict_on_batch(aeImg)\n",
    "    locFeatures = locBranchModel.predict_on_batch(locInfo)\n",
    "    dLoc = deprocess_loc(locInfo[0])\n",
    "    \n",
    "\n",
    "    timeList, predList = [], []\n",
    "    for month, hour in product(range(1,13), range(24)):\n",
    "        timeFeatures = timeBranchModel.predict_on_batch(preprocess_time((month, hour)).reshape(1,-1))\n",
    "        \n",
    "        concatFV = np.hstack((grFeatures, aeFeatures, locFeatures, timeFeatures))\n",
    "        pred = consistModel.predict_on_batch(concatFV)\n",
    "        consistentProb = pred[0][0]\n",
    "                \n",
    "        timeList += [(month, hour)]\n",
    "        predList += [consistentProb]\n",
    "    break\n",
    "    \n",
    "\n",
    "sortedTimeList = [(y,x) for y,x in sorted(zip(predList,timeList), \n",
    "                                              key=lambda pair: pair[0], reverse=True)]\n",
    "sortedProbs = [l[0] for l in sortedTimeList]\n",
    "sortedTimes = [l[1] for l in sortedTimeList]"
   ]
  },
  {
   "cell_type": "markdown",
   "metadata": {},
   "source": [
    "Given the location (`dLoc`), we shifted the heatmap based on the timeZone to present it as local time rather than UCT. "
   ]
  },
  {
   "cell_type": "code",
   "execution_count": null,
   "metadata": {},
   "outputs": [],
   "source": [
    "print(dLoc)\n",
    "\n",
    "timeZone = +1  #Should change this considering the timeZone"
   ]
  },
  {
   "cell_type": "code",
   "execution_count": 17,
   "metadata": {},
   "outputs": [
    {
     "data": {
      "image/png": "[encoded data removed]",
      "text/plain": [
       "<matplotlib.figure.Figure at 0x7ef99533be10>"
      ]
     },
     "metadata": {
      "needs_background": "light"
     },
     "output_type": "display_data"
    }
   ],
   "source": [
    "adjustedHeatMapMatrix = np.zeros((12, 24))\n",
    "for i in range(len(sortedTimes)):\n",
    "    month, hour = sortedTimes[i]\n",
    "    adjustedHeatMapMatrix[month-1,((hour + timeZone)%24)] = sortedProbs[i]\n",
    "    \n",
    "    \n",
    "fig=plt.figure(figsize=(8,8))\n",
    "columns = 1\n",
    "rows = 1\n",
    "\n",
    "fig.add_subplot(rows, columns, 1)\n",
    "fig.tight_layout()\n",
    "\n",
    "\n",
    "plt.xticks(range(0,24), range(0,24), rotation=30, size=13)\n",
    "plt.yticks(range(0,13), \n",
    "           [\"Jan.\", \"Feb.\", \"Mar.\", \"Apr.\", \"May\", \"Jun.\", \"Jul.\", \"Aug.\", \"Sept.\", \"Oct.\", \"Nov.\", \"Dec.\"],\n",
    "           size=13)\n",
    "plt.scatter((timeInfo[1]+timeZone)%24, timeInfo[0]-1, lw=4, c='r', marker=\"*\")\n",
    "plt.imshow(adjustedHeatMapMatrix, cmap='viridis')\n",
    "\n",
    "plt.show()"
   ]
  }
 ],
 "metadata": {
  "kernelspec": {
   "display_name": "Python 2",
   "language": "python",
   "name": "python2"
  },
  "language_info": {
   "codemirror_mode": {
    "name": "ipython",
    "version": 2
   },
   "file_extension": ".py",
   "mimetype": "text/x-python",
   "name": "python",
   "nbconvert_exporter": "python",
   "pygments_lexer": "ipython2",
   "version": "2.7.15+"
  }
 },
 "nbformat": 4,
 "nbformat_minor": 2
}
